{
 "cells": [
  {
   "metadata": {
    "ExecuteTime": {
     "end_time": "2024-11-19T12:56:09.864503Z",
     "start_time": "2024-11-19T12:56:09.560757Z"
    }
   },
   "cell_type": "code",
   "source": "import numpy as np # linear algebra",
   "id": "eb91a4ee8c46dbe7",
   "outputs": [],
   "execution_count": 1
  },
  {
   "metadata": {
    "ExecuteTime": {
     "end_time": "2024-11-19T12:56:10.611057Z",
     "start_time": "2024-11-19T12:56:09.877512Z"
    }
   },
   "cell_type": "code",
   "source": [
    "import pandas as pd\n",
    "import warnings\n",
    "warnings.filterwarnings('ignore')"
   ],
   "id": "2c9c23ce792bfff4",
   "outputs": [],
   "execution_count": 2
  },
  {
   "metadata": {
    "ExecuteTime": {
     "end_time": "2024-11-19T12:56:16.392358Z",
     "start_time": "2024-11-19T12:56:11.236410Z"
    }
   },
   "cell_type": "code",
   "source": "df1 = pd.read_csv('lung_cancer_mortality_data_large_v2.csv')",
   "id": "c39564009c0783da",
   "outputs": [],
   "execution_count": 3
  },
  {
   "metadata": {
    "ExecuteTime": {
     "end_time": "2024-11-19T12:56:16.494414Z",
     "start_time": "2024-11-19T12:56:16.477548Z"
    }
   },
   "cell_type": "code",
   "source": "df1.head()",
   "id": "32318a1040077bef",
   "outputs": [
    {
     "data": {
      "text/plain": [
       "   id   age  gender         country diagnosis_date cancer_stage  \\\n",
       "0   1  64.0  Female         Germany     2016-04-07    Stage III   \n",
       "1   2  50.0    Male  Czech Republic     2023-04-22    Stage III   \n",
       "2   3  65.0    Male         Romania     2023-04-07     Stage IV   \n",
       "3   4  51.0  Female          Latvia     2016-02-07    Stage III   \n",
       "4   5  37.0    Male          Greece     2023-12-01      Stage I   \n",
       "\n",
       "  beginning_of_treatment_date family_history  smoking_status   bmi  \\\n",
       "0                  2016-04-21             No    Never Smoked  31.1   \n",
       "1                  2023-05-02            Yes  Passive Smoker  25.9   \n",
       "2                  2023-04-12             No    Never Smoked  18.9   \n",
       "3                  2016-02-13            Yes   Former Smoker  34.6   \n",
       "4                  2023-12-03            Yes    Never Smoked  40.2   \n",
       "\n",
       "   cholesterol_level  hypertension  asthma  cirrhosis  other_cancer  \\\n",
       "0                257             1       1          0             0   \n",
       "1                208             1       0          0             0   \n",
       "2                193             0       0          0             0   \n",
       "3                249             1       1          1             0   \n",
       "4                262             0       0          0             0   \n",
       "\n",
       "  treatment_type end_treatment_date  survived  \n",
       "0       Combined         2017-11-15         0  \n",
       "1      Radiation         2024-04-25         0  \n",
       "2        Surgery         2025-03-11         0  \n",
       "3        Surgery         2017-04-14         1  \n",
       "4   Chemotherapy         2024-09-20         0  "
      ],
      "text/html": [
       "<div>\n",
       "<style scoped>\n",
       "    .dataframe tbody tr th:only-of-type {\n",
       "        vertical-align: middle;\n",
       "    }\n",
       "\n",
       "    .dataframe tbody tr th {\n",
       "        vertical-align: top;\n",
       "    }\n",
       "\n",
       "    .dataframe thead th {\n",
       "        text-align: right;\n",
       "    }\n",
       "</style>\n",
       "<table border=\"1\" class=\"dataframe\">\n",
       "  <thead>\n",
       "    <tr style=\"text-align: right;\">\n",
       "      <th></th>\n",
       "      <th>id</th>\n",
       "      <th>age</th>\n",
       "      <th>gender</th>\n",
       "      <th>country</th>\n",
       "      <th>diagnosis_date</th>\n",
       "      <th>cancer_stage</th>\n",
       "      <th>beginning_of_treatment_date</th>\n",
       "      <th>family_history</th>\n",
       "      <th>smoking_status</th>\n",
       "      <th>bmi</th>\n",
       "      <th>cholesterol_level</th>\n",
       "      <th>hypertension</th>\n",
       "      <th>asthma</th>\n",
       "      <th>cirrhosis</th>\n",
       "      <th>other_cancer</th>\n",
       "      <th>treatment_type</th>\n",
       "      <th>end_treatment_date</th>\n",
       "      <th>survived</th>\n",
       "    </tr>\n",
       "  </thead>\n",
       "  <tbody>\n",
       "    <tr>\n",
       "      <th>0</th>\n",
       "      <td>1</td>\n",
       "      <td>64.0</td>\n",
       "      <td>Female</td>\n",
       "      <td>Germany</td>\n",
       "      <td>2016-04-07</td>\n",
       "      <td>Stage III</td>\n",
       "      <td>2016-04-21</td>\n",
       "      <td>No</td>\n",
       "      <td>Never Smoked</td>\n",
       "      <td>31.1</td>\n",
       "      <td>257</td>\n",
       "      <td>1</td>\n",
       "      <td>1</td>\n",
       "      <td>0</td>\n",
       "      <td>0</td>\n",
       "      <td>Combined</td>\n",
       "      <td>2017-11-15</td>\n",
       "      <td>0</td>\n",
       "    </tr>\n",
       "    <tr>\n",
       "      <th>1</th>\n",
       "      <td>2</td>\n",
       "      <td>50.0</td>\n",
       "      <td>Male</td>\n",
       "      <td>Czech Republic</td>\n",
       "      <td>2023-04-22</td>\n",
       "      <td>Stage III</td>\n",
       "      <td>2023-05-02</td>\n",
       "      <td>Yes</td>\n",
       "      <td>Passive Smoker</td>\n",
       "      <td>25.9</td>\n",
       "      <td>208</td>\n",
       "      <td>1</td>\n",
       "      <td>0</td>\n",
       "      <td>0</td>\n",
       "      <td>0</td>\n",
       "      <td>Radiation</td>\n",
       "      <td>2024-04-25</td>\n",
       "      <td>0</td>\n",
       "    </tr>\n",
       "    <tr>\n",
       "      <th>2</th>\n",
       "      <td>3</td>\n",
       "      <td>65.0</td>\n",
       "      <td>Male</td>\n",
       "      <td>Romania</td>\n",
       "      <td>2023-04-07</td>\n",
       "      <td>Stage IV</td>\n",
       "      <td>2023-04-12</td>\n",
       "      <td>No</td>\n",
       "      <td>Never Smoked</td>\n",
       "      <td>18.9</td>\n",
       "      <td>193</td>\n",
       "      <td>0</td>\n",
       "      <td>0</td>\n",
       "      <td>0</td>\n",
       "      <td>0</td>\n",
       "      <td>Surgery</td>\n",
       "      <td>2025-03-11</td>\n",
       "      <td>0</td>\n",
       "    </tr>\n",
       "    <tr>\n",
       "      <th>3</th>\n",
       "      <td>4</td>\n",
       "      <td>51.0</td>\n",
       "      <td>Female</td>\n",
       "      <td>Latvia</td>\n",
       "      <td>2016-02-07</td>\n",
       "      <td>Stage III</td>\n",
       "      <td>2016-02-13</td>\n",
       "      <td>Yes</td>\n",
       "      <td>Former Smoker</td>\n",
       "      <td>34.6</td>\n",
       "      <td>249</td>\n",
       "      <td>1</td>\n",
       "      <td>1</td>\n",
       "      <td>1</td>\n",
       "      <td>0</td>\n",
       "      <td>Surgery</td>\n",
       "      <td>2017-04-14</td>\n",
       "      <td>1</td>\n",
       "    </tr>\n",
       "    <tr>\n",
       "      <th>4</th>\n",
       "      <td>5</td>\n",
       "      <td>37.0</td>\n",
       "      <td>Male</td>\n",
       "      <td>Greece</td>\n",
       "      <td>2023-12-01</td>\n",
       "      <td>Stage I</td>\n",
       "      <td>2023-12-03</td>\n",
       "      <td>Yes</td>\n",
       "      <td>Never Smoked</td>\n",
       "      <td>40.2</td>\n",
       "      <td>262</td>\n",
       "      <td>0</td>\n",
       "      <td>0</td>\n",
       "      <td>0</td>\n",
       "      <td>0</td>\n",
       "      <td>Chemotherapy</td>\n",
       "      <td>2024-09-20</td>\n",
       "      <td>0</td>\n",
       "    </tr>\n",
       "  </tbody>\n",
       "</table>\n",
       "</div>"
      ]
     },
     "execution_count": 4,
     "metadata": {},
     "output_type": "execute_result"
    }
   ],
   "execution_count": 4
  },
  {
   "metadata": {
    "ExecuteTime": {
     "end_time": "2024-11-19T12:56:16.596570Z",
     "start_time": "2024-11-19T12:56:16.590974Z"
    }
   },
   "cell_type": "code",
   "source": "df1.columns",
   "id": "4434f28390b904d9",
   "outputs": [
    {
     "data": {
      "text/plain": [
       "Index(['id', 'age', 'gender', 'country', 'diagnosis_date', 'cancer_stage',\n",
       "       'beginning_of_treatment_date', 'family_history', 'smoking_status',\n",
       "       'bmi', 'cholesterol_level', 'hypertension', 'asthma', 'cirrhosis',\n",
       "       'other_cancer', 'treatment_type', 'end_treatment_date', 'survived'],\n",
       "      dtype='object')"
      ]
     },
     "execution_count": 5,
     "metadata": {},
     "output_type": "execute_result"
    }
   ],
   "execution_count": 5
  },
  {
   "metadata": {
    "ExecuteTime": {
     "end_time": "2024-11-19T12:56:16.701638Z",
     "start_time": "2024-11-19T12:56:16.697144Z"
    }
   },
   "cell_type": "code",
   "source": "df1.shape",
   "id": "c58a020dc8f9e0dd",
   "outputs": [
    {
     "data": {
      "text/plain": [
       "(3250000, 18)"
      ]
     },
     "execution_count": 6,
     "metadata": {},
     "output_type": "execute_result"
    }
   ],
   "execution_count": 6
  },
  {
   "metadata": {
    "ExecuteTime": {
     "end_time": "2024-11-19T12:56:16.845888Z",
     "start_time": "2024-11-19T12:56:16.840848Z"
    }
   },
   "cell_type": "code",
   "source": "df1.size",
   "id": "43928fb403a3f8a8",
   "outputs": [
    {
     "data": {
      "text/plain": [
       "58500000"
      ]
     },
     "execution_count": 7,
     "metadata": {},
     "output_type": "execute_result"
    }
   ],
   "execution_count": 7
  },
  {
   "metadata": {
    "ExecuteTime": {
     "end_time": "2024-11-19T12:56:17.156836Z",
     "start_time": "2024-11-19T12:56:16.997010Z"
    }
   },
   "cell_type": "code",
   "source": [
    "# check for unique values\n",
    "df1['treatment_type'].unique()"
   ],
   "id": "71f6e936af817146",
   "outputs": [
    {
     "data": {
      "text/plain": [
       "array(['Combined', 'Radiation', 'Surgery', 'Chemotherapy'], dtype=object)"
      ]
     },
     "execution_count": 8,
     "metadata": {},
     "output_type": "execute_result"
    }
   ],
   "execution_count": 8
  },
  {
   "metadata": {
    "ExecuteTime": {
     "end_time": "2024-11-19T12:56:19.687985Z",
     "start_time": "2024-11-19T12:56:17.211496Z"
    }
   },
   "cell_type": "code",
   "source": [
    "# check for duplicates\n",
    "df1.duplicated().sum()"
   ],
   "id": "2f26ffe46d0cb6fc",
   "outputs": [
    {
     "data": {
      "text/plain": [
       "0"
      ]
     },
     "execution_count": 9,
     "metadata": {},
     "output_type": "execute_result"
    }
   ],
   "execution_count": 9
  },
  {
   "metadata": {
    "ExecuteTime": {
     "end_time": "2024-11-19T12:56:20.747377Z",
     "start_time": "2024-11-19T12:56:19.777335Z"
    }
   },
   "cell_type": "code",
   "source": [
    "# check for missing values\n",
    "df1.isna().sum()"
   ],
   "id": "c763622b20457c72",
   "outputs": [
    {
     "data": {
      "text/plain": [
       "id                             0\n",
       "age                            0\n",
       "gender                         0\n",
       "country                        0\n",
       "diagnosis_date                 0\n",
       "cancer_stage                   0\n",
       "beginning_of_treatment_date    0\n",
       "family_history                 0\n",
       "smoking_status                 0\n",
       "bmi                            0\n",
       "cholesterol_level              0\n",
       "hypertension                   0\n",
       "asthma                         0\n",
       "cirrhosis                      0\n",
       "other_cancer                   0\n",
       "treatment_type                 0\n",
       "end_treatment_date             0\n",
       "survived                       0\n",
       "dtype: int64"
      ]
     },
     "execution_count": 10,
     "metadata": {},
     "output_type": "execute_result"
    }
   ],
   "execution_count": 10
  },
  {
   "metadata": {
    "ExecuteTime": {
     "end_time": "2024-11-19T12:56:20.788308Z",
     "start_time": "2024-11-19T12:56:20.782782Z"
    }
   },
   "cell_type": "code",
   "source": [
    "# check the data types\n",
    "df1.dtypes"
   ],
   "id": "271c0bb1b21a80f",
   "outputs": [
    {
     "data": {
      "text/plain": [
       "id                               int64\n",
       "age                            float64\n",
       "gender                          object\n",
       "country                         object\n",
       "diagnosis_date                  object\n",
       "cancer_stage                    object\n",
       "beginning_of_treatment_date     object\n",
       "family_history                  object\n",
       "smoking_status                  object\n",
       "bmi                            float64\n",
       "cholesterol_level                int64\n",
       "hypertension                     int64\n",
       "asthma                           int64\n",
       "cirrhosis                        int64\n",
       "other_cancer                     int64\n",
       "treatment_type                  object\n",
       "end_treatment_date              object\n",
       "survived                         int64\n",
       "dtype: object"
      ]
     },
     "execution_count": 11,
     "metadata": {},
     "output_type": "execute_result"
    }
   ],
   "execution_count": 11
  },
  {
   "metadata": {
    "ExecuteTime": {
     "end_time": "2024-11-19T12:56:20.840006Z",
     "start_time": "2024-11-19T12:56:20.831729Z"
    }
   },
   "cell_type": "code",
   "source": "df1.info()",
   "id": "db81ad1c21777f7",
   "outputs": [
    {
     "name": "stdout",
     "output_type": "stream",
     "text": [
      "<class 'pandas.core.frame.DataFrame'>\n",
      "RangeIndex: 3250000 entries, 0 to 3249999\n",
      "Data columns (total 18 columns):\n",
      " #   Column                       Dtype  \n",
      "---  ------                       -----  \n",
      " 0   id                           int64  \n",
      " 1   age                          float64\n",
      " 2   gender                       object \n",
      " 3   country                      object \n",
      " 4   diagnosis_date               object \n",
      " 5   cancer_stage                 object \n",
      " 6   beginning_of_treatment_date  object \n",
      " 7   family_history               object \n",
      " 8   smoking_status               object \n",
      " 9   bmi                          float64\n",
      " 10  cholesterol_level            int64  \n",
      " 11  hypertension                 int64  \n",
      " 12  asthma                       int64  \n",
      " 13  cirrhosis                    int64  \n",
      " 14  other_cancer                 int64  \n",
      " 15  treatment_type               object \n",
      " 16  end_treatment_date           object \n",
      " 17  survived                     int64  \n",
      "dtypes: float64(2), int64(7), object(9)\n",
      "memory usage: 446.3+ MB\n"
     ]
    }
   ],
   "execution_count": 12
  },
  {
   "metadata": {
    "ExecuteTime": {
     "end_time": "2024-11-19T12:56:21.692434Z",
     "start_time": "2024-11-19T12:56:21.042970Z"
    }
   },
   "cell_type": "code",
   "source": "df1.describe()",
   "id": "593b3bd2d6bf53fc",
   "outputs": [
    {
     "data": {
      "text/plain": [
       "                 id           age           bmi  cholesterol_level  \\\n",
       "count  3.250000e+06  3.250000e+06  3.250000e+06       3.250000e+06   \n",
       "mean   1.625000e+06  5.499969e+01  3.049276e+01       2.336376e+02   \n",
       "std    9.381943e+05  1.000122e+01  8.371494e+00       4.344851e+01   \n",
       "min    1.000000e+00  4.000000e+00  1.600000e+01       1.500000e+02   \n",
       "25%    8.125008e+05  4.800000e+01  2.320000e+01       1.960000e+02   \n",
       "50%    1.625000e+06  5.500000e+01  3.050000e+01       2.420000e+02   \n",
       "75%    2.437500e+06  6.200000e+01  3.770000e+01       2.710000e+02   \n",
       "max    3.250000e+06  1.040000e+02  4.500000e+01       3.000000e+02   \n",
       "\n",
       "       hypertension        asthma     cirrhosis  other_cancer      survived  \n",
       "count  3.250000e+06  3.250000e+06  3.250000e+06  3.250000e+06  3.250000e+06  \n",
       "mean   7.498375e-01  4.687280e-01  2.265831e-01  8.802738e-02  2.196006e-01  \n",
       "std    4.331065e-01  4.990212e-01  4.186206e-01  2.833348e-01  4.139761e-01  \n",
       "min    0.000000e+00  0.000000e+00  0.000000e+00  0.000000e+00  0.000000e+00  \n",
       "25%    0.000000e+00  0.000000e+00  0.000000e+00  0.000000e+00  0.000000e+00  \n",
       "50%    1.000000e+00  0.000000e+00  0.000000e+00  0.000000e+00  0.000000e+00  \n",
       "75%    1.000000e+00  1.000000e+00  0.000000e+00  0.000000e+00  0.000000e+00  \n",
       "max    1.000000e+00  1.000000e+00  1.000000e+00  1.000000e+00  1.000000e+00  "
      ],
      "text/html": [
       "<div>\n",
       "<style scoped>\n",
       "    .dataframe tbody tr th:only-of-type {\n",
       "        vertical-align: middle;\n",
       "    }\n",
       "\n",
       "    .dataframe tbody tr th {\n",
       "        vertical-align: top;\n",
       "    }\n",
       "\n",
       "    .dataframe thead th {\n",
       "        text-align: right;\n",
       "    }\n",
       "</style>\n",
       "<table border=\"1\" class=\"dataframe\">\n",
       "  <thead>\n",
       "    <tr style=\"text-align: right;\">\n",
       "      <th></th>\n",
       "      <th>id</th>\n",
       "      <th>age</th>\n",
       "      <th>bmi</th>\n",
       "      <th>cholesterol_level</th>\n",
       "      <th>hypertension</th>\n",
       "      <th>asthma</th>\n",
       "      <th>cirrhosis</th>\n",
       "      <th>other_cancer</th>\n",
       "      <th>survived</th>\n",
       "    </tr>\n",
       "  </thead>\n",
       "  <tbody>\n",
       "    <tr>\n",
       "      <th>count</th>\n",
       "      <td>3.250000e+06</td>\n",
       "      <td>3.250000e+06</td>\n",
       "      <td>3.250000e+06</td>\n",
       "      <td>3.250000e+06</td>\n",
       "      <td>3.250000e+06</td>\n",
       "      <td>3.250000e+06</td>\n",
       "      <td>3.250000e+06</td>\n",
       "      <td>3.250000e+06</td>\n",
       "      <td>3.250000e+06</td>\n",
       "    </tr>\n",
       "    <tr>\n",
       "      <th>mean</th>\n",
       "      <td>1.625000e+06</td>\n",
       "      <td>5.499969e+01</td>\n",
       "      <td>3.049276e+01</td>\n",
       "      <td>2.336376e+02</td>\n",
       "      <td>7.498375e-01</td>\n",
       "      <td>4.687280e-01</td>\n",
       "      <td>2.265831e-01</td>\n",
       "      <td>8.802738e-02</td>\n",
       "      <td>2.196006e-01</td>\n",
       "    </tr>\n",
       "    <tr>\n",
       "      <th>std</th>\n",
       "      <td>9.381943e+05</td>\n",
       "      <td>1.000122e+01</td>\n",
       "      <td>8.371494e+00</td>\n",
       "      <td>4.344851e+01</td>\n",
       "      <td>4.331065e-01</td>\n",
       "      <td>4.990212e-01</td>\n",
       "      <td>4.186206e-01</td>\n",
       "      <td>2.833348e-01</td>\n",
       "      <td>4.139761e-01</td>\n",
       "    </tr>\n",
       "    <tr>\n",
       "      <th>min</th>\n",
       "      <td>1.000000e+00</td>\n",
       "      <td>4.000000e+00</td>\n",
       "      <td>1.600000e+01</td>\n",
       "      <td>1.500000e+02</td>\n",
       "      <td>0.000000e+00</td>\n",
       "      <td>0.000000e+00</td>\n",
       "      <td>0.000000e+00</td>\n",
       "      <td>0.000000e+00</td>\n",
       "      <td>0.000000e+00</td>\n",
       "    </tr>\n",
       "    <tr>\n",
       "      <th>25%</th>\n",
       "      <td>8.125008e+05</td>\n",
       "      <td>4.800000e+01</td>\n",
       "      <td>2.320000e+01</td>\n",
       "      <td>1.960000e+02</td>\n",
       "      <td>0.000000e+00</td>\n",
       "      <td>0.000000e+00</td>\n",
       "      <td>0.000000e+00</td>\n",
       "      <td>0.000000e+00</td>\n",
       "      <td>0.000000e+00</td>\n",
       "    </tr>\n",
       "    <tr>\n",
       "      <th>50%</th>\n",
       "      <td>1.625000e+06</td>\n",
       "      <td>5.500000e+01</td>\n",
       "      <td>3.050000e+01</td>\n",
       "      <td>2.420000e+02</td>\n",
       "      <td>1.000000e+00</td>\n",
       "      <td>0.000000e+00</td>\n",
       "      <td>0.000000e+00</td>\n",
       "      <td>0.000000e+00</td>\n",
       "      <td>0.000000e+00</td>\n",
       "    </tr>\n",
       "    <tr>\n",
       "      <th>75%</th>\n",
       "      <td>2.437500e+06</td>\n",
       "      <td>6.200000e+01</td>\n",
       "      <td>3.770000e+01</td>\n",
       "      <td>2.710000e+02</td>\n",
       "      <td>1.000000e+00</td>\n",
       "      <td>1.000000e+00</td>\n",
       "      <td>0.000000e+00</td>\n",
       "      <td>0.000000e+00</td>\n",
       "      <td>0.000000e+00</td>\n",
       "    </tr>\n",
       "    <tr>\n",
       "      <th>max</th>\n",
       "      <td>3.250000e+06</td>\n",
       "      <td>1.040000e+02</td>\n",
       "      <td>4.500000e+01</td>\n",
       "      <td>3.000000e+02</td>\n",
       "      <td>1.000000e+00</td>\n",
       "      <td>1.000000e+00</td>\n",
       "      <td>1.000000e+00</td>\n",
       "      <td>1.000000e+00</td>\n",
       "      <td>1.000000e+00</td>\n",
       "    </tr>\n",
       "  </tbody>\n",
       "</table>\n",
       "</div>"
      ]
     },
     "execution_count": 13,
     "metadata": {},
     "output_type": "execute_result"
    }
   ],
   "execution_count": 13
  },
  {
   "metadata": {
    "ExecuteTime": {
     "end_time": "2024-11-19T12:56:21.880552Z",
     "start_time": "2024-11-19T12:56:21.739519Z"
    }
   },
   "cell_type": "code",
   "source": [
    "# make a copy in order not to tamper with the original dataset\n",
    "df = df1.copy()"
   ],
   "id": "fdbe9be58b49fa77",
   "outputs": [],
   "execution_count": 14
  },
  {
   "metadata": {
    "ExecuteTime": {
     "end_time": "2024-11-19T12:56:24.572058Z",
     "start_time": "2024-11-19T12:56:21.954205Z"
    }
   },
   "cell_type": "code",
   "source": [
    "# Convert date columns to datetime\n",
    "df['diagnosis_date'] = pd.to_datetime(df['diagnosis_date'])\n",
    "df['end_treatment_date'] = pd.to_datetime(df['end_treatment_date'])"
   ],
   "id": "39821b6f8226bb1d",
   "outputs": [],
   "execution_count": 15
  },
  {
   "metadata": {
    "ExecuteTime": {
     "end_time": "2024-11-19T12:56:24.619093Z",
     "start_time": "2024-11-19T12:56:24.605388Z"
    }
   },
   "cell_type": "code",
   "source": [
    "# convert age data type to integer\n",
    "df['age'] = df['age'].astype(int)"
   ],
   "id": "47575c86850e374a",
   "outputs": [],
   "execution_count": 16
  },
  {
   "metadata": {
    "ExecuteTime": {
     "end_time": "2024-11-19T12:56:24.639238Z",
     "start_time": "2024-11-19T12:56:24.634099Z"
    }
   },
   "cell_type": "code",
   "source": [
    "# re-check data types\n",
    "df.dtypes"
   ],
   "id": "e5ddfd2c2b9ffac",
   "outputs": [
    {
     "data": {
      "text/plain": [
       "id                                      int64\n",
       "age                                     int32\n",
       "gender                                 object\n",
       "country                                object\n",
       "diagnosis_date                 datetime64[ns]\n",
       "cancer_stage                           object\n",
       "beginning_of_treatment_date            object\n",
       "family_history                         object\n",
       "smoking_status                         object\n",
       "bmi                                   float64\n",
       "cholesterol_level                       int64\n",
       "hypertension                            int64\n",
       "asthma                                  int64\n",
       "cirrhosis                               int64\n",
       "other_cancer                            int64\n",
       "treatment_type                         object\n",
       "end_treatment_date             datetime64[ns]\n",
       "survived                                int64\n",
       "dtype: object"
      ]
     },
     "execution_count": 17,
     "metadata": {},
     "output_type": "execute_result"
    }
   ],
   "execution_count": 17
  },
  {
   "metadata": {
    "ExecuteTime": {
     "end_time": "2024-11-19T12:56:24.697082Z",
     "start_time": "2024-11-19T12:56:24.686312Z"
    }
   },
   "cell_type": "code",
   "source": [
    "# Display dataframe\n",
    "df.head()"
   ],
   "id": "e15da09060136964",
   "outputs": [
    {
     "data": {
      "text/plain": [
       "   id  age  gender         country diagnosis_date cancer_stage  \\\n",
       "0   1   64  Female         Germany     2016-04-07    Stage III   \n",
       "1   2   50    Male  Czech Republic     2023-04-22    Stage III   \n",
       "2   3   65    Male         Romania     2023-04-07     Stage IV   \n",
       "3   4   51  Female          Latvia     2016-02-07    Stage III   \n",
       "4   5   37    Male          Greece     2023-12-01      Stage I   \n",
       "\n",
       "  beginning_of_treatment_date family_history  smoking_status   bmi  \\\n",
       "0                  2016-04-21             No    Never Smoked  31.1   \n",
       "1                  2023-05-02            Yes  Passive Smoker  25.9   \n",
       "2                  2023-04-12             No    Never Smoked  18.9   \n",
       "3                  2016-02-13            Yes   Former Smoker  34.6   \n",
       "4                  2023-12-03            Yes    Never Smoked  40.2   \n",
       "\n",
       "   cholesterol_level  hypertension  asthma  cirrhosis  other_cancer  \\\n",
       "0                257             1       1          0             0   \n",
       "1                208             1       0          0             0   \n",
       "2                193             0       0          0             0   \n",
       "3                249             1       1          1             0   \n",
       "4                262             0       0          0             0   \n",
       "\n",
       "  treatment_type end_treatment_date  survived  \n",
       "0       Combined         2017-11-15         0  \n",
       "1      Radiation         2024-04-25         0  \n",
       "2        Surgery         2025-03-11         0  \n",
       "3        Surgery         2017-04-14         1  \n",
       "4   Chemotherapy         2024-09-20         0  "
      ],
      "text/html": [
       "<div>\n",
       "<style scoped>\n",
       "    .dataframe tbody tr th:only-of-type {\n",
       "        vertical-align: middle;\n",
       "    }\n",
       "\n",
       "    .dataframe tbody tr th {\n",
       "        vertical-align: top;\n",
       "    }\n",
       "\n",
       "    .dataframe thead th {\n",
       "        text-align: right;\n",
       "    }\n",
       "</style>\n",
       "<table border=\"1\" class=\"dataframe\">\n",
       "  <thead>\n",
       "    <tr style=\"text-align: right;\">\n",
       "      <th></th>\n",
       "      <th>id</th>\n",
       "      <th>age</th>\n",
       "      <th>gender</th>\n",
       "      <th>country</th>\n",
       "      <th>diagnosis_date</th>\n",
       "      <th>cancer_stage</th>\n",
       "      <th>beginning_of_treatment_date</th>\n",
       "      <th>family_history</th>\n",
       "      <th>smoking_status</th>\n",
       "      <th>bmi</th>\n",
       "      <th>cholesterol_level</th>\n",
       "      <th>hypertension</th>\n",
       "      <th>asthma</th>\n",
       "      <th>cirrhosis</th>\n",
       "      <th>other_cancer</th>\n",
       "      <th>treatment_type</th>\n",
       "      <th>end_treatment_date</th>\n",
       "      <th>survived</th>\n",
       "    </tr>\n",
       "  </thead>\n",
       "  <tbody>\n",
       "    <tr>\n",
       "      <th>0</th>\n",
       "      <td>1</td>\n",
       "      <td>64</td>\n",
       "      <td>Female</td>\n",
       "      <td>Germany</td>\n",
       "      <td>2016-04-07</td>\n",
       "      <td>Stage III</td>\n",
       "      <td>2016-04-21</td>\n",
       "      <td>No</td>\n",
       "      <td>Never Smoked</td>\n",
       "      <td>31.1</td>\n",
       "      <td>257</td>\n",
       "      <td>1</td>\n",
       "      <td>1</td>\n",
       "      <td>0</td>\n",
       "      <td>0</td>\n",
       "      <td>Combined</td>\n",
       "      <td>2017-11-15</td>\n",
       "      <td>0</td>\n",
       "    </tr>\n",
       "    <tr>\n",
       "      <th>1</th>\n",
       "      <td>2</td>\n",
       "      <td>50</td>\n",
       "      <td>Male</td>\n",
       "      <td>Czech Republic</td>\n",
       "      <td>2023-04-22</td>\n",
       "      <td>Stage III</td>\n",
       "      <td>2023-05-02</td>\n",
       "      <td>Yes</td>\n",
       "      <td>Passive Smoker</td>\n",
       "      <td>25.9</td>\n",
       "      <td>208</td>\n",
       "      <td>1</td>\n",
       "      <td>0</td>\n",
       "      <td>0</td>\n",
       "      <td>0</td>\n",
       "      <td>Radiation</td>\n",
       "      <td>2024-04-25</td>\n",
       "      <td>0</td>\n",
       "    </tr>\n",
       "    <tr>\n",
       "      <th>2</th>\n",
       "      <td>3</td>\n",
       "      <td>65</td>\n",
       "      <td>Male</td>\n",
       "      <td>Romania</td>\n",
       "      <td>2023-04-07</td>\n",
       "      <td>Stage IV</td>\n",
       "      <td>2023-04-12</td>\n",
       "      <td>No</td>\n",
       "      <td>Never Smoked</td>\n",
       "      <td>18.9</td>\n",
       "      <td>193</td>\n",
       "      <td>0</td>\n",
       "      <td>0</td>\n",
       "      <td>0</td>\n",
       "      <td>0</td>\n",
       "      <td>Surgery</td>\n",
       "      <td>2025-03-11</td>\n",
       "      <td>0</td>\n",
       "    </tr>\n",
       "    <tr>\n",
       "      <th>3</th>\n",
       "      <td>4</td>\n",
       "      <td>51</td>\n",
       "      <td>Female</td>\n",
       "      <td>Latvia</td>\n",
       "      <td>2016-02-07</td>\n",
       "      <td>Stage III</td>\n",
       "      <td>2016-02-13</td>\n",
       "      <td>Yes</td>\n",
       "      <td>Former Smoker</td>\n",
       "      <td>34.6</td>\n",
       "      <td>249</td>\n",
       "      <td>1</td>\n",
       "      <td>1</td>\n",
       "      <td>1</td>\n",
       "      <td>0</td>\n",
       "      <td>Surgery</td>\n",
       "      <td>2017-04-14</td>\n",
       "      <td>1</td>\n",
       "    </tr>\n",
       "    <tr>\n",
       "      <th>4</th>\n",
       "      <td>5</td>\n",
       "      <td>37</td>\n",
       "      <td>Male</td>\n",
       "      <td>Greece</td>\n",
       "      <td>2023-12-01</td>\n",
       "      <td>Stage I</td>\n",
       "      <td>2023-12-03</td>\n",
       "      <td>Yes</td>\n",
       "      <td>Never Smoked</td>\n",
       "      <td>40.2</td>\n",
       "      <td>262</td>\n",
       "      <td>0</td>\n",
       "      <td>0</td>\n",
       "      <td>0</td>\n",
       "      <td>0</td>\n",
       "      <td>Chemotherapy</td>\n",
       "      <td>2024-09-20</td>\n",
       "      <td>0</td>\n",
       "    </tr>\n",
       "  </tbody>\n",
       "</table>\n",
       "</div>"
      ]
     },
     "execution_count": 18,
     "metadata": {},
     "output_type": "execute_result"
    }
   ],
   "execution_count": 18
  },
  {
   "metadata": {
    "ExecuteTime": {
     "end_time": "2024-11-19T12:56:24.894619Z",
     "start_time": "2024-11-19T12:56:24.807389Z"
    }
   },
   "cell_type": "code",
   "source": [
    "# create a new column and calculate number of days under treatment\n",
    "df['days_under_treatment'] = (df['end_treatment_date'] - df['diagnosis_date']).dt.days"
   ],
   "id": "926a29ef31b1272b",
   "outputs": [],
   "execution_count": 19
  },
  {
   "metadata": {
    "ExecuteTime": {
     "end_time": "2024-11-19T12:56:25.064696Z",
     "start_time": "2024-11-19T12:56:25.052865Z"
    }
   },
   "cell_type": "code",
   "source": "df.head()",
   "id": "25d35171ba3132d4",
   "outputs": [
    {
     "data": {
      "text/plain": [
       "   id  age  gender         country diagnosis_date cancer_stage  \\\n",
       "0   1   64  Female         Germany     2016-04-07    Stage III   \n",
       "1   2   50    Male  Czech Republic     2023-04-22    Stage III   \n",
       "2   3   65    Male         Romania     2023-04-07     Stage IV   \n",
       "3   4   51  Female          Latvia     2016-02-07    Stage III   \n",
       "4   5   37    Male          Greece     2023-12-01      Stage I   \n",
       "\n",
       "  beginning_of_treatment_date family_history  smoking_status   bmi  \\\n",
       "0                  2016-04-21             No    Never Smoked  31.1   \n",
       "1                  2023-05-02            Yes  Passive Smoker  25.9   \n",
       "2                  2023-04-12             No    Never Smoked  18.9   \n",
       "3                  2016-02-13            Yes   Former Smoker  34.6   \n",
       "4                  2023-12-03            Yes    Never Smoked  40.2   \n",
       "\n",
       "   cholesterol_level  hypertension  asthma  cirrhosis  other_cancer  \\\n",
       "0                257             1       1          0             0   \n",
       "1                208             1       0          0             0   \n",
       "2                193             0       0          0             0   \n",
       "3                249             1       1          1             0   \n",
       "4                262             0       0          0             0   \n",
       "\n",
       "  treatment_type end_treatment_date  survived  days_under_treatment  \n",
       "0       Combined         2017-11-15         0                   587  \n",
       "1      Radiation         2024-04-25         0                   369  \n",
       "2        Surgery         2025-03-11         0                   704  \n",
       "3        Surgery         2017-04-14         1                   432  \n",
       "4   Chemotherapy         2024-09-20         0                   294  "
      ],
      "text/html": [
       "<div>\n",
       "<style scoped>\n",
       "    .dataframe tbody tr th:only-of-type {\n",
       "        vertical-align: middle;\n",
       "    }\n",
       "\n",
       "    .dataframe tbody tr th {\n",
       "        vertical-align: top;\n",
       "    }\n",
       "\n",
       "    .dataframe thead th {\n",
       "        text-align: right;\n",
       "    }\n",
       "</style>\n",
       "<table border=\"1\" class=\"dataframe\">\n",
       "  <thead>\n",
       "    <tr style=\"text-align: right;\">\n",
       "      <th></th>\n",
       "      <th>id</th>\n",
       "      <th>age</th>\n",
       "      <th>gender</th>\n",
       "      <th>country</th>\n",
       "      <th>diagnosis_date</th>\n",
       "      <th>cancer_stage</th>\n",
       "      <th>beginning_of_treatment_date</th>\n",
       "      <th>family_history</th>\n",
       "      <th>smoking_status</th>\n",
       "      <th>bmi</th>\n",
       "      <th>cholesterol_level</th>\n",
       "      <th>hypertension</th>\n",
       "      <th>asthma</th>\n",
       "      <th>cirrhosis</th>\n",
       "      <th>other_cancer</th>\n",
       "      <th>treatment_type</th>\n",
       "      <th>end_treatment_date</th>\n",
       "      <th>survived</th>\n",
       "      <th>days_under_treatment</th>\n",
       "    </tr>\n",
       "  </thead>\n",
       "  <tbody>\n",
       "    <tr>\n",
       "      <th>0</th>\n",
       "      <td>1</td>\n",
       "      <td>64</td>\n",
       "      <td>Female</td>\n",
       "      <td>Germany</td>\n",
       "      <td>2016-04-07</td>\n",
       "      <td>Stage III</td>\n",
       "      <td>2016-04-21</td>\n",
       "      <td>No</td>\n",
       "      <td>Never Smoked</td>\n",
       "      <td>31.1</td>\n",
       "      <td>257</td>\n",
       "      <td>1</td>\n",
       "      <td>1</td>\n",
       "      <td>0</td>\n",
       "      <td>0</td>\n",
       "      <td>Combined</td>\n",
       "      <td>2017-11-15</td>\n",
       "      <td>0</td>\n",
       "      <td>587</td>\n",
       "    </tr>\n",
       "    <tr>\n",
       "      <th>1</th>\n",
       "      <td>2</td>\n",
       "      <td>50</td>\n",
       "      <td>Male</td>\n",
       "      <td>Czech Republic</td>\n",
       "      <td>2023-04-22</td>\n",
       "      <td>Stage III</td>\n",
       "      <td>2023-05-02</td>\n",
       "      <td>Yes</td>\n",
       "      <td>Passive Smoker</td>\n",
       "      <td>25.9</td>\n",
       "      <td>208</td>\n",
       "      <td>1</td>\n",
       "      <td>0</td>\n",
       "      <td>0</td>\n",
       "      <td>0</td>\n",
       "      <td>Radiation</td>\n",
       "      <td>2024-04-25</td>\n",
       "      <td>0</td>\n",
       "      <td>369</td>\n",
       "    </tr>\n",
       "    <tr>\n",
       "      <th>2</th>\n",
       "      <td>3</td>\n",
       "      <td>65</td>\n",
       "      <td>Male</td>\n",
       "      <td>Romania</td>\n",
       "      <td>2023-04-07</td>\n",
       "      <td>Stage IV</td>\n",
       "      <td>2023-04-12</td>\n",
       "      <td>No</td>\n",
       "      <td>Never Smoked</td>\n",
       "      <td>18.9</td>\n",
       "      <td>193</td>\n",
       "      <td>0</td>\n",
       "      <td>0</td>\n",
       "      <td>0</td>\n",
       "      <td>0</td>\n",
       "      <td>Surgery</td>\n",
       "      <td>2025-03-11</td>\n",
       "      <td>0</td>\n",
       "      <td>704</td>\n",
       "    </tr>\n",
       "    <tr>\n",
       "      <th>3</th>\n",
       "      <td>4</td>\n",
       "      <td>51</td>\n",
       "      <td>Female</td>\n",
       "      <td>Latvia</td>\n",
       "      <td>2016-02-07</td>\n",
       "      <td>Stage III</td>\n",
       "      <td>2016-02-13</td>\n",
       "      <td>Yes</td>\n",
       "      <td>Former Smoker</td>\n",
       "      <td>34.6</td>\n",
       "      <td>249</td>\n",
       "      <td>1</td>\n",
       "      <td>1</td>\n",
       "      <td>1</td>\n",
       "      <td>0</td>\n",
       "      <td>Surgery</td>\n",
       "      <td>2017-04-14</td>\n",
       "      <td>1</td>\n",
       "      <td>432</td>\n",
       "    </tr>\n",
       "    <tr>\n",
       "      <th>4</th>\n",
       "      <td>5</td>\n",
       "      <td>37</td>\n",
       "      <td>Male</td>\n",
       "      <td>Greece</td>\n",
       "      <td>2023-12-01</td>\n",
       "      <td>Stage I</td>\n",
       "      <td>2023-12-03</td>\n",
       "      <td>Yes</td>\n",
       "      <td>Never Smoked</td>\n",
       "      <td>40.2</td>\n",
       "      <td>262</td>\n",
       "      <td>0</td>\n",
       "      <td>0</td>\n",
       "      <td>0</td>\n",
       "      <td>0</td>\n",
       "      <td>Chemotherapy</td>\n",
       "      <td>2024-09-20</td>\n",
       "      <td>0</td>\n",
       "      <td>294</td>\n",
       "    </tr>\n",
       "  </tbody>\n",
       "</table>\n",
       "</div>"
      ]
     },
     "execution_count": 20,
     "metadata": {},
     "output_type": "execute_result"
    }
   ],
   "execution_count": 20
  },
  {
   "metadata": {
    "ExecuteTime": {
     "end_time": "2024-11-19T12:56:25.110600Z",
     "start_time": "2024-11-19T12:56:25.105185Z"
    }
   },
   "cell_type": "code",
   "source": "df.dtypes",
   "id": "1826292142139e99",
   "outputs": [
    {
     "data": {
      "text/plain": [
       "id                                      int64\n",
       "age                                     int32\n",
       "gender                                 object\n",
       "country                                object\n",
       "diagnosis_date                 datetime64[ns]\n",
       "cancer_stage                           object\n",
       "beginning_of_treatment_date            object\n",
       "family_history                         object\n",
       "smoking_status                         object\n",
       "bmi                                   float64\n",
       "cholesterol_level                       int64\n",
       "hypertension                            int64\n",
       "asthma                                  int64\n",
       "cirrhosis                               int64\n",
       "other_cancer                            int64\n",
       "treatment_type                         object\n",
       "end_treatment_date             datetime64[ns]\n",
       "survived                                int64\n",
       "days_under_treatment                    int64\n",
       "dtype: object"
      ]
     },
     "execution_count": 21,
     "metadata": {},
     "output_type": "execute_result"
    }
   ],
   "execution_count": 21
  },
  {
   "metadata": {
    "ExecuteTime": {
     "end_time": "2024-11-19T12:56:26.036266Z",
     "start_time": "2024-11-19T12:56:25.256422Z"
    }
   },
   "cell_type": "code",
   "source": [
    "# map all columns with 'Yes' and 'No' to 1 and 0 in order to be recognised by our algorithm\n",
    "df['hypertension'] = df['hypertension'].map({'Yes': 1, 'No': 0})\n",
    "df['asthma'] = df['asthma'].map({'Yes': 1, 'No': 0})\n",
    "df['cirrhosis'] = df['cirrhosis'].map({'Yes': 1, 'No': 0})\n",
    "df['other_cancer'] = df['other_cancer'].map({'Yes': 1, 'No': 0})\n",
    "df['survived'] = df['survived'].map({'Yes': 1, 'No': 0})\n",
    "df['family_history'] = df['family_history'].map({'Yes': 1, 'No': 0})"
   ],
   "id": "8fb7c991519b891b",
   "outputs": [],
   "execution_count": 22
  },
  {
   "metadata": {
    "ExecuteTime": {
     "end_time": "2024-11-19T12:56:26.770502Z",
     "start_time": "2024-11-19T12:56:26.099499Z"
    }
   },
   "cell_type": "code",
   "source": [
    "df['gender'] = df['gender'].map({'Male': 1, 'Female': 0})\n",
    "df['cancer_stage'] = df['cancer_stage'].map({'Stage I': 1, 'Stage II': 2, 'Stage III':3, 'Stage IV':4})\n",
    "df['treatment_type'] = df['treatment_type'].map({'Chemotherapy': 1, 'Combined': 2, 'Radiation':3, 'Surgery':4})\n",
    "df['smoking_status'] = df['smoking_status'].map({'Current Smoker': 1, 'Former Smoker': 2, 'Never Smoked':3, 'Passive Smoker':4})"
   ],
   "id": "6e883faffef60795",
   "outputs": [],
   "execution_count": 23
  },
  {
   "metadata": {
    "ExecuteTime": {
     "end_time": "2024-11-19T12:56:26.788544Z",
     "start_time": "2024-11-19T12:56:26.782664Z"
    }
   },
   "cell_type": "code",
   "source": "df.dtypes",
   "id": "1951b675619e91c9",
   "outputs": [
    {
     "data": {
      "text/plain": [
       "id                                      int64\n",
       "age                                     int32\n",
       "gender                                  int64\n",
       "country                                object\n",
       "diagnosis_date                 datetime64[ns]\n",
       "cancer_stage                            int64\n",
       "beginning_of_treatment_date            object\n",
       "family_history                          int64\n",
       "smoking_status                          int64\n",
       "bmi                                   float64\n",
       "cholesterol_level                       int64\n",
       "hypertension                          float64\n",
       "asthma                                float64\n",
       "cirrhosis                             float64\n",
       "other_cancer                          float64\n",
       "treatment_type                          int64\n",
       "end_treatment_date             datetime64[ns]\n",
       "survived                              float64\n",
       "days_under_treatment                    int64\n",
       "dtype: object"
      ]
     },
     "execution_count": 24,
     "metadata": {},
     "output_type": "execute_result"
    }
   ],
   "execution_count": 24
  },
  {
   "metadata": {
    "ExecuteTime": {
     "end_time": "2024-11-19T12:56:26.841938Z",
     "start_time": "2024-11-19T12:56:26.831785Z"
    }
   },
   "cell_type": "code",
   "source": "df['survived'] = df1['survived']",
   "id": "6655b0900baae7d0",
   "outputs": [],
   "execution_count": 25
  },
  {
   "metadata": {
    "ExecuteTime": {
     "end_time": "2024-11-19T12:56:26.927810Z",
     "start_time": "2024-11-19T12:56:26.907182Z"
    }
   },
   "cell_type": "code",
   "source": "print(df['survived'].value_counts())",
   "id": "b482b704a97943b8",
   "outputs": [
    {
     "name": "stdout",
     "output_type": "stream",
     "text": [
      "survived\n",
      "0    2536298\n",
      "1     713702\n",
      "Name: count, dtype: int64\n"
     ]
    }
   ],
   "execution_count": 26
  },
  {
   "metadata": {
    "ExecuteTime": {
     "end_time": "2024-11-19T12:56:29.188566Z",
     "start_time": "2024-11-19T12:56:26.942167Z"
    }
   },
   "cell_type": "code",
   "source": [
    "from sklearn.utils import resample\n",
    "#create two different dataframe of majority and minority class \n",
    "df_majority = df[(df['survived']==0)] \n",
    "df_minority = df[(df['survived']==1)] \n",
    "# upsample minority class\n",
    "df_minority_upsampled = resample(df_minority, \n",
    "                                 replace=True,    # sample with replacement\n",
    "                                 n_samples= 2536298, # to match majority class\n",
    "                                 random_state=42)  # reproducible results\n",
    "# Combine majority class with upsampled minority class\n",
    "df_upsampled = pd.concat([df_minority_upsampled, df_majority])"
   ],
   "id": "3d524f37552dc096",
   "outputs": [],
   "execution_count": 27
  },
  {
   "metadata": {
    "ExecuteTime": {
     "end_time": "2024-11-19T12:56:29.254891Z",
     "start_time": "2024-11-19T12:56:29.224739Z"
    }
   },
   "cell_type": "code",
   "source": "print(df_upsampled['survived'].value_counts())",
   "id": "d8f0052f95419010",
   "outputs": [
    {
     "name": "stdout",
     "output_type": "stream",
     "text": [
      "survived\n",
      "1    2536298\n",
      "0    2536298\n",
      "Name: count, dtype: int64\n"
     ]
    }
   ],
   "execution_count": 28
  },
  {
   "metadata": {
    "ExecuteTime": {
     "end_time": "2024-11-19T12:56:29.535396Z",
     "start_time": "2024-11-19T12:56:29.337044Z"
    }
   },
   "cell_type": "code",
   "source": [
    "# Exclude the columns 'diagnosis_date', 'end_treatment_date', 'country', 'id', and 'survived'\n",
    "X = df_upsampled[['age', 'gender', 'cancer_stage', 'family_history', 'smoking_status', 'bmi', 'cholesterol_level', 'hypertension', 'asthma', 'cirrhosis', 'other_cancer', 'treatment_type', 'days_under_treatment']]\n",
    "y = df_upsampled['survived']"
   ],
   "id": "3e28e207d8dd47fa",
   "outputs": [],
   "execution_count": 29
  },
  {
   "metadata": {
    "ExecuteTime": {
     "end_time": "2024-11-19T12:56:31.063607Z",
     "start_time": "2024-11-19T12:56:29.569206Z"
    }
   },
   "cell_type": "code",
   "source": [
    "from sklearn.model_selection import train_test_split\n",
    "\n",
    "# Split the data into training and testing sets\n",
    "X_train, X_test, y_train, y_test = train_test_split(X, y, test_size=0.2, random_state=42)"
   ],
   "id": "ed419f7477583ed9",
   "outputs": [],
   "execution_count": 30
  },
  {
   "metadata": {
    "ExecuteTime": {
     "end_time": "2024-11-19T13:12:57.035209Z",
     "start_time": "2024-11-19T12:56:31.110079Z"
    }
   },
   "cell_type": "code",
   "source": [
    "import numpy as np\n",
    "from sklearn.ensemble import RandomForestClassifier\n",
    "from sklearn.metrics import roc_auc_score, accuracy_score\n",
    "\n",
    "rf_model = RandomForestClassifier()\n",
    "rf_model.fit(X_train, y_train)\n",
    "\n",
    "predicted_proba = rf_model.predict_proba(X_test)[:, 1]  # Get probabilities for the positive class\n",
    "\n",
    "# Initialize variables\n",
    "step_factor = 0.05\n",
    "threshold_values = np.arange(0.2, 0.81, step_factor)\n",
    "roc_scores = []\n",
    "\n",
    "# Iterate over each threshold and calculate the ROC AUC score\n",
    "for threshold in threshold_values:\n",
    "    predicted = (predicted_proba >= threshold).astype('int')\n",
    "    roc_score = roc_auc_score(y_test, predicted)\n",
    "    print(f'Threshold {threshold:.2f} -- ROC AUC: {roc_score:.4f}')\n",
    "    roc_scores.append(roc_score)\n",
    "\n",
    "# Find the best threshold\n",
    "best_index = np.argmax(roc_scores)\n",
    "best_threshold = threshold_values[best_index]\n",
    "best_roc_score = roc_scores[best_index]\n",
    "\n",
    "print(f'--- Optimum Threshold --- {best_threshold:.2f} -- ROC AUC: {best_roc_score:.4f}')\n",
    "\n",
    "# Apply the best threshold to make final classifications\n",
    "final_predictions = (predicted_proba >= best_threshold).astype('int')\n",
    "\n",
    "# Evaluate the final classifications\n",
    "final_accuracy = accuracy_score(y_test, final_predictions)\n",
    "print(f'Final accuracy with optimal threshold {best_threshold:.2f}: {final_accuracy:.4f}')"
   ],
   "id": "8662b66522067ee9",
   "outputs": [
    {
     "name": "stdout",
     "output_type": "stream",
     "text": [
      "Threshold 0.20 -- ROC AUC: 0.5491\n",
      "Threshold 0.25 -- ROC AUC: 0.6199\n",
      "Threshold 0.30 -- ROC AUC: 0.7114\n",
      "Threshold 0.35 -- ROC AUC: 0.8004\n",
      "Threshold 0.40 -- ROC AUC: 0.8703\n",
      "Threshold 0.45 -- ROC AUC: 0.9169\n",
      "Threshold 0.50 -- ROC AUC: 0.9440\n",
      "Threshold 0.55 -- ROC AUC: 0.9581\n",
      "Threshold 0.60 -- ROC AUC: 0.9648\n",
      "Threshold 0.65 -- ROC AUC: 0.9660\n",
      "Threshold 0.70 -- ROC AUC: 0.9563\n",
      "Threshold 0.75 -- ROC AUC: 0.9313\n",
      "Threshold 0.80 -- ROC AUC: 0.9046\n",
      "--- Optimum Threshold --- 0.65 -- ROC AUC: 0.9660\n",
      "Final accuracy with optimal threshold 0.65: 0.9660\n"
     ]
    }
   ],
   "execution_count": 31
  },
  {
   "metadata": {
    "ExecuteTime": {
     "end_time": "2024-11-19T13:12:57.414665Z",
     "start_time": "2024-11-19T13:12:57.266097Z"
    }
   },
   "cell_type": "code",
   "source": [
    "from sklearn.metrics import confusion_matrix\n",
    "\n",
    "# Get the confusion matrix\n",
    "conf_matrix = confusion_matrix(y_test, final_predictions)\n",
    "print('Confusion Matrix:')\n",
    "print(conf_matrix)"
   ],
   "id": "b6d2842afc91731f",
   "outputs": [
    {
     "name": "stdout",
     "output_type": "stream",
     "text": [
      "Confusion Matrix:\n",
      "[[505033   2471]\n",
      " [ 32007 475009]]\n"
     ]
    }
   ],
   "execution_count": 32
  },
  {
   "metadata": {
    "ExecuteTime": {
     "end_time": "2024-11-19T13:12:59.334159Z",
     "start_time": "2024-11-19T13:12:57.485861Z"
    }
   },
   "cell_type": "code",
   "source": [
    "import matplotlib.pyplot as plt\n",
    "\n",
    "# Plot the confusion matrix\n",
    "plt.matshow(conf_matrix, cmap=plt.cm.Blues)  # Use a colormap for better visualization\n",
    "plt.colorbar()\n",
    "\n",
    "# Add labels and title\n",
    "plt.ylabel('True Label')\n",
    "plt.xlabel('Predicted Label')\n",
    "plt.title('Confusion Matrix')\n",
    "\n",
    "# Add ticks with class labels (assuming you have class labels stored somewhere)\n",
    "plt.tick_params(bottom=False)  # Remove x-axis tick labels (predicted labels are shown on the top)\n",
    "class_labels = ['Class 0', 'Class 1']  # Replace with your actual class labels\n",
    "plt.xticks(range(len(class_labels)), class_labels, rotation=45)\n",
    "plt.yticks(range(len(class_labels)), class_labels)\n",
    "\n",
    "# Add values to each cell (optional)\n",
    "for i in range(len(conf_matrix)):\n",
    "  for j in range(len(conf_matrix[0])):\n",
    "    plt.text(j, i, conf_matrix[i, j], ha='center', va='center')\n",
    "\n",
    "plt.tight_layout()\n",
    "plt.show()"
   ],
   "id": "cb906a22d3688861",
   "outputs": [
    {
     "data": {
      "text/plain": [
       "<Figure size 480x480 with 2 Axes>"
      ],
      "image/png": "[encoded data removed]"
     },
     "metadata": {},
     "output_type": "display_data"
    }
   ],
   "execution_count": 33
  },
  {
   "metadata": {
    "ExecuteTime": {
     "end_time": "2024-11-19T13:12:59.436185Z",
     "start_time": "2024-11-19T13:12:59.422754Z"
    }
   },
   "cell_type": "code",
   "source": [
    "from sklearn.metrics import mean_squared_error\n",
    "\n",
    "# Calculate mean squared error\n",
    "mse = mean_squared_error(y_test, final_predictions)\n",
    "\n",
    "# Print the MSE\n",
    "print(f\"Mean Squared Error: {mse:.2f}\")"
   ],
   "id": "db5f0f4618f90c7a",
   "outputs": [
    {
     "name": "stdout",
     "output_type": "stream",
     "text": [
      "Mean Squared Error: 0.03\n"
     ]
    }
   ],
   "execution_count": 34
  },
  {
   "metadata": {
    "ExecuteTime": {
     "end_time": "2024-11-19T13:13:00.628062Z",
     "start_time": "2024-11-19T13:12:59.481148Z"
    }
   },
   "cell_type": "code",
   "source": [
    "from sklearn.metrics import precision_score, recall_score, f1_score, r2_score\n",
    "\n",
    "# Compute confusion matrix\n",
    "conf_matrix = confusion_matrix(y_test, final_predictions)\n",
    "\n",
    "# Extract TP, TN, FP, FN\n",
    "TN = conf_matrix[0, 0]\n",
    "FP = conf_matrix[0, 1]\n",
    "FN = conf_matrix[1, 0]\n",
    "TP = conf_matrix[1, 1]\n",
    "\n",
    "# Calculate precision, recall, and F1 score\n",
    "precision = precision_score(y_test, final_predictions)\n",
    "recall = recall_score(y_test, final_predictions)\n",
    "f1 = f1_score(y_test, final_predictions)\n",
    "\n",
    "# Calculate specificity\n",
    "specificity = TN / (TN + FP)\n",
    "\n",
    "# Calculate R² score\n",
    "r2 = r2_score(y_test, final_predictions)\n",
    "\n",
    "# Print metrics\n",
    "print(f'Precision: {precision:.4f}')\n",
    "print(f'Recall: {recall:.4f}')\n",
    "print(f'F1 Score: {f1:.4f}')\n",
    "print(f'Specificity: {specificity:.4f}')\n",
    "print(f'R² Score: {r2:.4f}')\n"
   ],
   "id": "cf5480bef00af232",
   "outputs": [
    {
     "name": "stdout",
     "output_type": "stream",
     "text": [
      "Precision: 0.9948\n",
      "Recall: 0.9369\n",
      "F1 Score: 0.9650\n",
      "Specificity: 0.9951\n",
      "R² Score: 0.8641\n"
     ]
    }
   ],
   "execution_count": 35
  },
  {
   "metadata": {
    "ExecuteTime": {
     "end_time": "2024-11-19T13:13:01.137288Z",
     "start_time": "2024-11-19T13:13:00.671908Z"
    }
   },
   "cell_type": "code",
   "source": [
    "from sklearn.metrics import roc_curve\n",
    "\n",
    "# Calculate ROC curve points\n",
    "fpr, tpr, thresholds = roc_curve(y_test, predicted_proba)\n",
    "\n",
    "# Optional: Plot the ROC curve\n",
    "plt.plot(fpr, tpr, label='ROC curve (AUC = %0.2f)' % roc_auc_score(y_test, predicted_proba))\n",
    "plt.title('ROC Curve')\n",
    "plt.xlabel('False Positive Rate (FPR)')\n",
    "plt.ylabel('True Positive Rate (TPR)')\n",
    "plt.legend(loc='lower right')\n",
    "plt.grid(True)\n",
    "plt.show()"
   ],
   "id": "31ff77538f268872",
   "outputs": [
    {
     "data": {
      "text/plain": [
       "<Figure size 640x480 with 1 Axes>"
      ],
      "image/png": "[encoded data removed]"
     },
     "metadata": {},
     "output_type": "display_data"
    }
   ],
   "execution_count": 36
  },
  {
   "metadata": {
    "ExecuteTime": {
     "end_time": "2024-11-19T13:14:02.412747Z",
     "start_time": "2024-11-19T13:13:01.185827Z"
    }
   },
   "cell_type": "code",
   "source": [
    "from joblib import dump\n",
    "\n",
    "# Save the model\n",
    "dump(rf_model, 'lung_cancer_survival_model.joblib')\n",
    "print(\"Model saved as lung_cancer_survival_model.joblib\")\n"
   ],
   "id": "fb2cb33f2b8bcdb",
   "outputs": [
    {
     "name": "stdout",
     "output_type": "stream",
     "text": [
      "Model saved as lung_cancer_survival_model.joblib\n"
     ]
    }
   ],
   "execution_count": 37
  }
 ],
 "metadata": {
  "kernelspec": {
   "display_name": "Python 3",
   "language": "python",
   "name": "python3"
  },
  "language_info": {
   "codemirror_mode": {
    "name": "ipython",
    "version": 2
   },
   "file_extension": ".py",
   "mimetype": "text/x-python",
   "name": "python",
   "nbconvert_exporter": "python",
   "pygments_lexer": "ipython2",
   "version": "2.7.6"
  }
 },
 "nbformat": 4,
 "nbformat_minor": 5
}
